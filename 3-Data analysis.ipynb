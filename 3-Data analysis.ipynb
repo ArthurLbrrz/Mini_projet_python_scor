{
 "cells": [
  {
   "cell_type": "markdown",
   "metadata": {},
   "source": [
    "# What is expected from you ?\n",
    "The instruction is simple: produce a notebook with the statistics below and the corresponding plots.\n",
    "Provide your insights and conclusions as clearly as possible "
   ]
  },
  {
   "cell_type": "markdown",
   "metadata": {},
   "source": [
    "# Simple data analytics\n",
    "In this final part, you are asked to:\n",
    "- provide specific statistics\n",
    "- plot these statistics\n",
    "\n",
    "WARNING: to compute these statistics you may need to transform again the dataframe !!!"
   ]
  },
  {
   "cell_type": "markdown",
   "metadata": {},
   "source": [
    "## 1-Statitics on emissions\n",
    "\n",
    "### 1-1 Provide summary statistics\n",
    "- On total emissions per 'commune', per department, per region\n",
    "- On size (in terms of populations) per 'commune', per department, per region\n",
    "- On total emissions per type of emitter (Agriculture, Transports etc)\n",
    "- On total emssions for all transports"
   ]
  },
  {
   "cell_type": "markdown",
   "metadata": {},
   "source": [
    "### 1-2 Provide statistics on emssions per person  \n",
    "Compute the statistics of emissions per person, i-e the total emissions (in tons of GHG) for 1 person\n",
    "- at the commune level\n",
    "- at the department level\n",
    "- at the region level"
   ]
  },
  {
   "cell_type": "markdown",
   "metadata": {},
   "source": [
    "# Analysis with data visualisation\n",
    "You are free to choose one of the following library to provide graphics:\n",
    "- matplotlib\n",
    "- seaborn\n",
    "- plotly\n",
    "\n"
   ]
  }
 ],
 "metadata": {
  "language_info": {
   "name": "python"
  }
 },
 "nbformat": 4,
 "nbformat_minor": 2
}
